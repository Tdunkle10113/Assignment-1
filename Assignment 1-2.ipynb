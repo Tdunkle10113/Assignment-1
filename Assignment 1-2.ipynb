{
 "cells": [
  {
   "cell_type": "markdown",
   "id": "5a829eec-5310-4b9c-acdf-f2cdb2d5c1cc",
   "metadata": {},
   "source": [
    "# Taylor Markdown Practice"
   ]
  },
  {
   "cell_type": "markdown",
   "id": "eb64d1e2-611a-42c6-8cba-6f0277efd5f1",
   "metadata": {},
   "source": [
    "- programming assignments\n",
    "- quizzes\n",
    "- mid-term exams\n",
    "- projects"
   ]
  },
  {
   "cell_type": "markdown",
   "id": "59283e6a-7158-4f9a-bca5-c9d8e3bd131d",
   "metadata": {},
   "source": [
    "1. Module 1: Course Introduction\n",
    "2. Module 2: Lists and Tuples Part 1\n",
    "3. Module 3: If Statements\n",
    "4. Module 4: loops\n",
    "5. Module 5: Lists and Tuples Part 2\n",
    "6. Module 6: Dictionaries\n",
    "7. Module 7: Sets, Functions, Libraries\n",
    "8. Module 8: Class Datatypes and Exceptions\n",
    "9. Module 9: NumPy Arrays"
   ]
  },
  {
   "cell_type": "markdown",
   "id": "085de096-2999-4606-b4f6-6ed745fa4439",
   "metadata": {},
   "source": [
    "**Python**"
   ]
  },
  {
   "cell_type": "markdown",
   "id": "ad583b18-69d6-4375-8606-6ab1db19200a",
   "metadata": {},
   "source": [
    "*Jupyter Notebook*"
   ]
  },
  {
   "cell_type": "markdown",
   "id": "0503b717-30e8-4954-803d-3117ade8425c",
   "metadata": {},
   "source": [
    "Today I played golf and I `Qualifed for my first tournament` yay!"
   ]
  },
  {
   "cell_type": "markdown",
   "id": "963d1066-cd53-4918-ad8f-b804e41dd885",
   "metadata": {},
   "source": [
    "[My github link](https://github.com/Tdunkle10113/Assignment-1/settings/access)"
   ]
  },
  {
   "attachments": {
    "0dc8d918-b749-4400-83db-ee3a272f598e.png": {
     "image/png": "[encoded data removed]"
    }
   },
   "cell_type": "markdown",
   "id": "a38fe8d6-5aaa-45ea-a35b-d95fff31d508",
   "metadata": {},
   "source": [
    "![image.png](attachment:0dc8d918-b749-4400-83db-ee3a272f598e.png)"
   ]
  },
  {
   "cell_type": "markdown",
   "id": "b443ee0a-c430-4e3a-b5e7-c9b1407871f9",
   "metadata": {},
   "source": [
    "In this Markdown Practice I learned how to add different headers, make different kinds of lists, bold and italicize text, highlight add a link and how to add a photo."
   ]
  },
  {
   "cell_type": "code",
   "execution_count": null,
   "id": "5e9d5b8b-3549-435d-804b-9e1ba3586175",
   "metadata": {},
   "outputs": [],
   "source": []
  }
 ],
 "metadata": {
  "kernelspec": {
   "display_name": "Python [conda env:base] *",
   "language": "python",
   "name": "conda-base-py"
  },
  "language_info": {
   "codemirror_mode": {
    "name": "ipython",
    "version": 3
   },
   "file_extension": ".py",
   "mimetype": "text/x-python",
   "name": "python",
   "nbconvert_exporter": "python",
   "pygments_lexer": "ipython3",
   "version": "3.13.5"
  }
 },
 "nbformat": 4,
 "nbformat_minor": 5
}
