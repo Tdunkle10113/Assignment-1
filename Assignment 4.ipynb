{
 "cells": [
  {
   "cell_type": "code",
   "execution_count": 20,
   "id": "da3a3791-64da-449b-80f6-3f86726f6f05",
   "metadata": {},
   "outputs": [
    {
     "name": "stdin",
     "output_type": "stream",
     "text": [
      "please input a positive number: 12\n"
     ]
    },
    {
     "name": "stdout",
     "output_type": "stream",
     "text": [
      "the factors of your number are\n",
      "1 is a factor of  12\n",
      "2 is a factor of  12\n",
      "3 is a factor of  12\n",
      "4 is a factor of  12\n",
      "6 is a factor of  12\n",
      "12 is a factor of  12\n"
     ]
    },
    {
     "name": "stdin",
     "output_type": "stream",
     "text": [
      "please input a positive number 12\n"
     ]
    },
    {
     "name": "stdout",
     "output_type": "stream",
     "text": [
      "this is not a prime number\n"
     ]
    }
   ],
   "source": [
    "x=int(input('please input a positive number:'))\n",
    "def int1(x):\n",
    "    print('the factors of your number are')\n",
    "    for i in range(1,x+1):\n",
    "        if x % i == 0:\n",
    "            print(i, \"is a factor of \", x)\n",
    "num=x\n",
    "int1(num)\n",
    "\n",
    "p=int(input('please input a positive number'))\n",
    "isp=True\n",
    "for i in range (2,p):\n",
    "    if p % i == 0:\n",
    "        isp=False\n",
    "        break\n",
    "if isp:\n",
    "    print('this is a prime number')\n",
    "else:\n",
    "    print('this is not a prime number')\n"
   ]
  },
  {
   "cell_type": "code",
   "execution_count": 24,
   "id": "90ec8091-9e3e-4999-bd08-550a69b9cccd",
   "metadata": {},
   "outputs": [
    {
     "name": "stdout",
     "output_type": "stream",
     "text": [
      "enter an english word or press enter to quit\n"
     ]
    },
    {
     "name": "stdin",
     "output_type": "stream",
     "text": [
      "\n",
      "Enter an englsih word:  love\n"
     ]
    },
    {
     "name": "stdout",
     "output_type": "stream",
     "text": [
      "'love' in Spanish is 'amor'.\n",
      "\n"
     ]
    },
    {
     "name": "stdin",
     "output_type": "stream",
     "text": [
      "\n",
      "Enter an englsih word:  water\n"
     ]
    },
    {
     "name": "stdout",
     "output_type": "stream",
     "text": [
      "'water' in Spanish is 'agua'.\n",
      "\n"
     ]
    },
    {
     "name": "stdin",
     "output_type": "stream",
     "text": [
      "\n",
      "Enter an englsih word:  snow\n"
     ]
    },
    {
     "name": "stdout",
     "output_type": "stream",
     "text": [
      "Sorry, 'snow' is not in the Dictonary.\n",
      "\n"
     ]
    },
    {
     "name": "stdin",
     "output_type": "stream",
     "text": [
      "\n",
      "Enter an englsih word:  \n"
     ]
    },
    {
     "name": "stdout",
     "output_type": "stream",
     "text": [
      "goodbye\n"
     ]
    }
   ],
   "source": [
    "Translation_dict={'hello':'hola','goodbye':'adios','please':'por favor','thank you':'gracias','yes':'si','no':'no','money':'denero','love':'amor','dog':'pero','water':'agua'}\n",
    "print('enter an english word or press enter to quit')\n",
    "while True:\n",
    "    word=input(\"\\nEnter an englsih word: \").strip().lower()\n",
    "    if word == \"\":\n",
    "        print('goodbye')\n",
    "        break\n",
    "    if word in Translation_dict:\n",
    "        print(f\"'{word}' in Spanish is '{Translation_dict[word]}'.\\n\")\n",
    "    else:\n",
    "        print(f\"Sorry, '{word}' is not in the Dictonary.\\n\")"
   ]
  },
  {
   "cell_type": "code",
   "execution_count": 27,
   "id": "d92b8262-0b00-4038-af76-61189ce44312",
   "metadata": {},
   "outputs": [
    {
     "name": "stdin",
     "output_type": "stream",
     "text": [
      "Enter a month name or quit to exit: Jan\n"
     ]
    },
    {
     "name": "stdout",
     "output_type": "stream",
     "text": [
      " Average for Jan: High = 40, Low= 26. \n"
     ]
    },
    {
     "name": "stdin",
     "output_type": "stream",
     "text": [
      "Enter a month name or quit to exit: Feb\n"
     ]
    },
    {
     "name": "stdout",
     "output_type": "stream",
     "text": [
      " Average for Feb: High = 45, Low= 29. \n"
     ]
    },
    {
     "name": "stdin",
     "output_type": "stream",
     "text": [
      "Enter a month name or quit to exit: Mar\n"
     ]
    },
    {
     "name": "stdout",
     "output_type": "stream",
     "text": [
      " Average for Mar: High = 56, Low= 38. \n"
     ]
    },
    {
     "name": "stdin",
     "output_type": "stream",
     "text": [
      "Enter a month name or quit to exit: Apr\n"
     ]
    },
    {
     "name": "stdout",
     "output_type": "stream",
     "text": [
      " Average for Apr: High = 66, Low= 47. \n"
     ]
    },
    {
     "name": "stdin",
     "output_type": "stream",
     "text": [
      "Enter a month name or quit to exit: May\n"
     ]
    },
    {
     "name": "stdout",
     "output_type": "stream",
     "text": [
      " Average for May: High = 75, Low= 57. \n"
     ]
    },
    {
     "name": "stdin",
     "output_type": "stream",
     "text": [
      "Enter a month name or quit to exit: Jun\n"
     ]
    },
    {
     "name": "stdout",
     "output_type": "stream",
     "text": [
      " Average for Jun: High = 84, Low= 65. \n"
     ]
    },
    {
     "name": "stdin",
     "output_type": "stream",
     "text": [
      "Enter a month name or quit to exit: Jul\n"
     ]
    },
    {
     "name": "stdout",
     "output_type": "stream",
     "text": [
      " Average for Jul: High = 88, Low= 69. \n"
     ]
    },
    {
     "name": "stdin",
     "output_type": "stream",
     "text": [
      "Enter a month name or quit to exit: Aug\n"
     ]
    },
    {
     "name": "stdout",
     "output_type": "stream",
     "text": [
      " Average for Aug: High = 86, Low= 67. \n"
     ]
    },
    {
     "name": "stdin",
     "output_type": "stream",
     "text": [
      "Enter a month name or quit to exit: Sep\n"
     ]
    },
    {
     "name": "stdout",
     "output_type": "stream",
     "text": [
      " Average for Sep: High = 81, Low= 61. \n"
     ]
    },
    {
     "name": "stdin",
     "output_type": "stream",
     "text": [
      "Enter a month name or quit to exit: Oct\n"
     ]
    },
    {
     "name": "stdout",
     "output_type": "stream",
     "text": [
      " Average for Oct: High = 68, Low= 50. \n"
     ]
    },
    {
     "name": "stdin",
     "output_type": "stream",
     "text": [
      "Enter a month name or quit to exit: Nov\n"
     ]
    },
    {
     "name": "stdout",
     "output_type": "stream",
     "text": [
      " Average for Nov: High = 55, Low= 39. \n"
     ]
    },
    {
     "name": "stdin",
     "output_type": "stream",
     "text": [
      "Enter a month name or quit to exit: Dec\n"
     ]
    },
    {
     "name": "stdout",
     "output_type": "stream",
     "text": [
      " Average for Dec: High = 46, Low= 33. \n"
     ]
    },
    {
     "name": "stdin",
     "output_type": "stream",
     "text": [
      "Enter a month name or quit to exit: quit\n"
     ]
    },
    {
     "name": "stdout",
     "output_type": "stream",
     "text": [
      "goodbye\n"
     ]
    }
   ],
   "source": [
    "temps = { 'Jan':[40,26],'Feb': [45,29], 'Mar': [56,38], 'Apr': [66,47], 'May':[75,57], 'Jun': [84,65], 'Jul': [88,69], 'Aug':[86,67], 'Sep':[81,61], 'Oct':[68,50], 'Nov':[55,39], 'Dec':[46,33]}\n",
    "while True:\n",
    "    month= input('Enter a month name or quit to exit:').strip()\n",
    "    if month.lower() == 'quit':\n",
    "        print('goodbye')\n",
    "        break\n",
    "    if month not in temps:\n",
    "        print(f\"Sorry - '{month}' is not a valid month.\")\n",
    "    else:\n",
    "        high, low = temps[month]\n",
    "        print(f\" Average for {month}: High = {high}, Low= {low}. \")"
   ]
  },
  {
   "cell_type": "code",
   "execution_count": 29,
   "id": "f9785951-934d-4b1c-9728-575c4b22c669",
   "metadata": {},
   "outputs": [
    {
     "name": "stdout",
     "output_type": "stream",
     "text": [
      "Hardware Store Menu\n",
      "1. Check item availability and price\n",
      "2. List all items under a given budget\n",
      "3. Show total quantity of all items\n",
      "4. Show total value of all inventory\n",
      "5. Exit\n"
     ]
    },
    {
     "name": "stdin",
     "output_type": "stream",
     "text": [
      "Enter your choice (1-5):  1\n",
      "Enter the item name:  hammer\n"
     ]
    },
    {
     "name": "stdout",
     "output_type": "stream",
     "text": [
      "There are 15 hammer(s) available at $12.49 each.\n",
      "Hardware Store Menu\n",
      "1. Check item availability and price\n",
      "2. List all items under a given budget\n",
      "3. Show total quantity of all items\n",
      "4. Show total value of all inventory\n",
      "5. Exit\n"
     ]
    },
    {
     "name": "stdin",
     "output_type": "stream",
     "text": [
      "Enter your choice (1-5):  2\n",
      "Enter your maximum budget per item:  23\n"
     ]
    },
    {
     "name": "stdout",
     "output_type": "stream",
     "text": [
      "\n",
      "Items costing less than $23.00:\n",
      "- hammer: $12.49 each (15 in stock)\n",
      "- wrench: $7.99 each (20 in stock)\n",
      "- screwdriver: $3.99 each (40 in stock)\n",
      "- padlock: $5.99 each (25 in stock)\n",
      "- roll_of_duct_tape: $4.95 each (30 in stock)\n",
      "Hardware Store Menu\n",
      "1. Check item availability and price\n",
      "2. List all items under a given budget\n",
      "3. Show total quantity of all items\n",
      "4. Show total value of all inventory\n",
      "5. Exit\n"
     ]
    },
    {
     "name": "stdin",
     "output_type": "stream",
     "text": [
      "Enter your choice (1-5):  3\n"
     ]
    },
    {
     "name": "stdout",
     "output_type": "stream",
     "text": [
      "Total quantity of all items: 140\n",
      "Hardware Store Menu\n",
      "1. Check item availability and price\n",
      "2. List all items under a given budget\n",
      "3. Show total quantity of all items\n",
      "4. Show total value of all inventory\n",
      "5. Exit\n"
     ]
    },
    {
     "name": "stdin",
     "output_type": "stream",
     "text": [
      "Enter your choice (1-5):  4\n"
     ]
    },
    {
     "name": "stdout",
     "output_type": "stream",
     "text": [
      "Total value of all inventory: $1170.90\n",
      "Hardware Store Menu\n",
      "1. Check item availability and price\n",
      "2. List all items under a given budget\n",
      "3. Show total quantity of all items\n",
      "4. Show total value of all inventory\n",
      "5. Exit\n"
     ]
    },
    {
     "name": "stdin",
     "output_type": "stream",
     "text": [
      "Enter your choice (1-5):  5\n"
     ]
    },
    {
     "name": "stdout",
     "output_type": "stream",
     "text": [
      "Exiting program. Goodbye!\n"
     ]
    }
   ],
   "source": [
    "inventory = {'hammer': [15, 12.49],'wrench': [20, 7.99],'screwdriver': [40, 3.99],'nailgun': [10, 36.59],'padlock': [25, 5.99],'roll_of_duct_tape': [30, 4.95]}\n",
    "def display_menu():\n",
    "    print(\"Hardware Store Menu\")\n",
    "    print(\"1. Check item availability and price\")\n",
    "    print(\"2. List all items under a given budget\")\n",
    "    print(\"3. Show total quantity of all items\")\n",
    "    print(\"4. Show total value of all inventory\")\n",
    "    print(\"5. Exit\")\n",
    "while True:\n",
    "    display_menu()\n",
    "    choice = input(\"Enter your choice (1-5): \")\n",
    "    if choice == '1':\n",
    "        item = input(\"Enter the item name: \").strip().lower()\n",
    "        if item in inventory:\n",
    "            quantity, price = inventory[item]\n",
    "            print(f\"There are {quantity} {item}(s) available at ${price:.2f} each.\")\n",
    "        else:\n",
    "            print(\"Sorry, that item is not available.\")\n",
    "    elif choice == '2':\n",
    "        try:\n",
    "            budget = float(input(\"Enter your maximum budget per item: \"))\n",
    "            print(f\"\\nItems costing less than ${budget:.2f}:\")\n",
    "            found = False\n",
    "            for item, (quantity, price) in inventory.items():\n",
    "                if price <= budget:\n",
    "                    print(f\"- {item}: ${price:.2f} each ({quantity} in stock)\")\n",
    "                    found = True\n",
    "            if not found:\n",
    "                print(\"No items found within that budget.\")\n",
    "        except ValueError:\n",
    "            print(\"Please enter a valid number.\")\n",
    "    elif choice == '3':\n",
    "        total_quantity = sum(quantity for quantity, _ in inventory.values())\n",
    "        print(f\"Total quantity of all items: {total_quantity}\")\n",
    "    elif choice == '4':\n",
    "        total_value = sum(quantity * price for quantity, price in inventory.values())\n",
    "        print(f\"Total value of all inventory: ${total_value:.2f}\")\n",
    "    elif choice == '5':\n",
    "        print(\"Exiting program. Goodbye!\")\n",
    "        break\n",
    "    else:\n",
    "        print(\"Invalid choice. Please select an option from 1 to 5.\")\n"
   ]
  },
  {
   "cell_type": "code",
   "execution_count": null,
   "id": "fb48e0a0-a495-48b9-94ce-db690f8ea477",
   "metadata": {},
   "outputs": [],
   "source": []
  }
 ],
 "metadata": {
  "kernelspec": {
   "display_name": "Python [conda env:base] *",
   "language": "python",
   "name": "conda-base-py"
  },
  "language_info": {
   "codemirror_mode": {
    "name": "ipython",
    "version": 3
   },
   "file_extension": ".py",
   "mimetype": "text/x-python",
   "name": "python",
   "nbconvert_exporter": "python",
   "pygments_lexer": "ipython3",
   "version": "3.13.5"
  }
 },
 "nbformat": 4,
 "nbformat_minor": 5
}
