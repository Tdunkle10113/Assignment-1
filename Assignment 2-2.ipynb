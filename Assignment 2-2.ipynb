{
 "cells": [
  {
   "cell_type": "markdown",
   "id": "5dba953c-a75c-4e3c-a0bd-d5e04f7b08d5",
   "metadata": {},
   "source": [
    "Assignment 2\n",
    "Taylor Dunkle\n",
    "Computer Science 2025"
   ]
  },
  {
   "cell_type": "code",
   "execution_count": 6,
   "id": "55d7229c-6cf6-4ea2-a179-19b4bd01e12d",
   "metadata": {},
   "outputs": [
    {
     "name": "stdout",
     "output_type": "stream",
     "text": [
      "TASK 1\n",
      "My name is  Taylor Dunkle , I am  18 years old, I am  67  inches tall, and my favorite color is  white .\n"
     ]
    }
   ],
   "source": [
    "name= 'Taylor Dunkle'\n",
    "age= 18\n",
    "height= 67\n",
    "color='white'\n",
    "print(\"TASK 1\")\n",
    "print('My name is ',name, ', I am ',age,'years old, I am ',height,' inches tall, and my favorite color is ',color,'.')"
   ]
  },
  {
   "cell_type": "code",
   "execution_count": 13,
   "id": "c172c007-8d15-4ae4-8b05-3f1d596c5c3a",
   "metadata": {},
   "outputs": [
    {
     "name": "stdout",
     "output_type": "stream",
     "text": [
      "TASK 2\n",
      "The distance is 100 miles, which is the equivalent of 160.934 kilometers.\n"
     ]
    }
   ],
   "source": [
    "miles_distance=100\n",
    "km_distance=miles_distance*1.60934\n",
    "print('TASK 2')\n",
    "print('The distance is',miles_distance,'miles, which is the equivalent of',km_distance,'kilometers.')"
   ]
  },
  {
   "cell_type": "code",
   "execution_count": 14,
   "id": "3640b26b-bb0d-4d35-abea-1cfd3c522838",
   "metadata": {},
   "outputs": [
    {
     "name": "stdout",
     "output_type": "stream",
     "text": [
      "TASK 3\n",
      "75\n",
      "15\n",
      "90\n",
      "37.5\n"
     ]
    }
   ],
   "source": [
    "run1=30\n",
    "run2=45\n",
    "total=run1+run2\n",
    "difference=run2-run1\n",
    "twice=run2*2\n",
    "avg=(run1+run2)/2\n",
    "print('TASK 3')\n",
    "print(total)\n",
    "print(difference)\n",
    "print(twice)\n",
    "print(avg)"
   ]
  },
  {
   "cell_type": "code",
   "execution_count": 49,
   "id": "a4f1d844-e62e-4fad-b345-33bdfbfaeafc",
   "metadata": {},
   "outputs": [
    {
     "name": "stdout",
     "output_type": "stream",
     "text": [
      "TASK 4\n",
      "27\n",
      "   ALLS WELL THAT ENDS WELL\n",
      "   alls well that ends well\n",
      "alls well that ends well\n",
      "['alls', 'well', 'that', 'ends', 'well']\n"
     ]
    }
   ],
   "source": [
    "print('TASK 4')\n",
    "quote=('   alls well that ends well')\n",
    "length=len(quote)\n",
    "print (length)\n",
    "upper=quote.upper()\n",
    "print (upper)\n",
    "lower=quote.lower()\n",
    "print (lower)\n",
    "with_out_space=quote.strip()\n",
    "print (with_out_space)\n",
    "lists=quote.split()\n",
    "print (lists)"
   ]
  },
  {
   "cell_type": "code",
   "execution_count": 63,
   "id": "fb1b2545-be0f-4f92-8c35-127d58753659",
   "metadata": {},
   "outputs": [
    {
     "name": "stdout",
     "output_type": "stream",
     "text": [
      "TASK 5\n"
     ]
    },
    {
     "name": "stdin",
     "output_type": "stream",
     "text": [
      "please input leg a length 1\n",
      "please input leg b length 1\n"
     ]
    },
    {
     "name": "stdout",
     "output_type": "stream",
     "text": [
      "the hypotenuse of your triangle is 1 units.\n"
     ]
    }
   ],
   "source": [
    "print('TASK 5')\n",
    "a=int(input('please input leg a length'))\n",
    "b=int(input('please input leg b length'))\n",
    "hypotenuse=(round(((a**2)+(b**2))**.5))\n",
    "hyp=round(hypotenuse, 1)\n",
    "print('the hypotenuse of your triangle is',hyp,'units.')"
   ]
  },
  {
   "cell_type": "code",
   "execution_count": null,
   "id": "78b1cdff-26d5-4efc-a4ef-bedc7369baad",
   "metadata": {},
   "outputs": [],
   "source": []
  }
 ],
 "metadata": {
  "kernelspec": {
   "display_name": "Python [conda env:base] *",
   "language": "python",
   "name": "conda-base-py"
  },
  "language_info": {
   "codemirror_mode": {
    "name": "ipython",
    "version": 3
   },
   "file_extension": ".py",
   "mimetype": "text/x-python",
   "name": "python",
   "nbconvert_exporter": "python",
   "pygments_lexer": "ipython3",
   "version": "3.13.5"
  }
 },
 "nbformat": 4,
 "nbformat_minor": 5
}
