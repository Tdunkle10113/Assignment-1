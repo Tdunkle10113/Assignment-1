{
 "cells": [
  {
   "cell_type": "code",
   "execution_count": 3,
   "id": "21eca8b9-b60f-4452-8064-ca75d6027a70",
   "metadata": {},
   "outputs": [
    {
     "name": "stdin",
     "output_type": "stream",
     "text": [
      "please enter a side length 1\n",
      "please enter a side length 2\n",
      "please enter a side length 3\n"
     ]
    },
    {
     "name": "stdout",
     "output_type": "stream",
     "text": [
      "this is a scalene triangle\n"
     ]
    }
   ],
   "source": [
    "side1=int(input('please enter a side length'))\n",
    "side2=int(input('please enter a side length'))\n",
    "side3=int(input('please enter a side length'))\n",
    "if side1==side2==side3:\n",
    "    print('this is an equilateral triangle')\n",
    "elif side1==side2 or side1==side3 or side2==side3:\n",
    "    print('this is an isosceles triangle')\n",
    "else:\n",
    "    print('this is a scalene triangle')"
   ]
  },
  {
   "cell_type": "code",
   "execution_count": 23,
   "id": "17edaeeb-8832-465c-b24b-2d767b0b59b4",
   "metadata": {},
   "outputs": [
    {
     "name": "stdout",
     "output_type": "stream",
     "text": [
      "84.4\n",
      "59\n",
      "99\n",
      "there are  1  students at risk of failing\n"
     ]
    }
   ],
   "source": [
    "student_grades=[78,88,98,59,99]\n",
    "print(sum(student_grades)/len(student_grades))\n",
    "print(min(student_grades))\n",
    "print(max(student_grades))\n",
    "i=0\n",
    "for grade in student_grades:\n",
    "    if grade<65:\n",
    "        i=i+1\n",
    "print('there are ',i,' students at risk of failing')"
   ]
  },
  {
   "cell_type": "code",
   "execution_count": 74,
   "id": "ebe4d260-8dc9-4902-881f-cf44ff631ae9",
   "metadata": {},
   "outputs": [
    {
     "name": "stdout",
     "output_type": "stream",
     "text": [
      "2 4 6 8 10 12 14 16 18 20 22 24 26 28 30 32 34 36 38 40 42 44 46 48 50 52 54 56 58 60 62 64 66 68 70 72 74 76 78 80 82 84 86 88 90 92 94 96 98 100 \n",
      "3 6 9 12 15 18 21 24 27 30 33 36 39 42 45 48 51 54 57 60 63 66 69 72 75 78 81 84 87 90 93 96 99 \n",
      "6 12 18 24 30 36 42 48 54 60 66 72 78 84 90 96 \n",
      "2 3 4 6 8 9 10 12 14 15 16 18 20 21 22 24 26 27 28 30 32 33 34 36 38 39 40 42 44 45 46 48 50 51 52 54 56 57 58 60 62 63 64 66 68 69 70 72 74 75 76 78 80 81 82 84 86 87 88 90 92 93 94 96 98 99 100 "
     ]
    }
   ],
   "source": [
    "mult2 = 1\n",
    "while mult2 < 101:\n",
    "    if (mult2 % 2 == 0):\n",
    "        print(mult2, end=\" \")\n",
    "    mult2 = mult2 + 1\n",
    "print()\n",
    "mult3 = 1\n",
    "while mult3 < 101:\n",
    "    if (mult3 % 3 == 0) :\n",
    "        print(mult3, end=' ')\n",
    "    mult3=mult3+1\n",
    "print()\n",
    "mult_of_both=1\n",
    "while mult_of_both < 101:\n",
    "    if mult_of_both %2==0 and mult_of_both %3==0:\n",
    "        print(mult_of_both, end=' ')\n",
    "    mult_of_both=mult_of_both+1\n",
    "print()\n",
    "mult_of_either=1\n",
    "while mult_of_either < 101:\n",
    "    if mult_of_either %2==0 or mult_of_either %3==0:\n",
    "        print(mult_of_either, end=' ')\n",
    "    mult_of_either=mult_of_either+1"
   ]
  },
  {
   "cell_type": "code",
   "execution_count": null,
   "id": "b336a307-1eec-45fe-ba89-07857e70f477",
   "metadata": {},
   "outputs": [
    {
     "name": "stdout",
     "output_type": "stream",
     "text": [
      "Enter up to 7 items for your shopping list. Type 'done' to stop early.\n"
     ]
    },
    {
     "name": "stdin",
     "output_type": "stream",
     "text": [
      " apple\n",
      " orange\n",
      " apple\n",
      " kiwi\n",
      " pineapple\n",
      " watermelon\n"
     ]
    }
   ],
   "source": [
    "grocerylist=[ ]\n",
    "print(\"Enter up to 7 items for your shopping list. Type 'done' to stop early.\")\n",
    "for i in range (7):\n",
    "    item=input().strip().lower()\n",
    "    if item=='done':\n",
    "        break\n",
    "    grocerylist.append(item)\n",
    "print(len(grocerylist))\n",
    "for item in reversed(grocerylist):\n",
    "    print(item, end=' ')\n",
    "print()\n",
    "for item in sorted(grocerylist):\n",
    "    print(item, end=' ')\n",
    "print()\n",
    "dups=False\n",
    "checked=[]\n",
    "for i in range(len(grocerylist)):\n",
    "    item=grocerylist[i]\n",
    "    if item not in checked and grocerylist.count(item) >1:\n",
    "        print(\"the\", item,\"shows up\", (grocerylist.count(item)), \" times.\")\n",
    "        dups=True\n",
    "    checked.append(item)\n",
    "if not dups:\n",
    "    print('no duplicates were found')"
   ]
  },
  {
   "cell_type": "code",
   "execution_count": null,
   "id": "1d8ae879-5de0-4df6-9613-a6d5aa864f09",
   "metadata": {},
   "outputs": [],
   "source": []
  }
 ],
 "metadata": {
  "kernelspec": {
   "display_name": "Python [conda env:base] *",
   "language": "python",
   "name": "conda-base-py"
  },
  "language_info": {
   "codemirror_mode": {
    "name": "ipython",
    "version": 3
   },
   "file_extension": ".py",
   "mimetype": "text/x-python",
   "name": "python",
   "nbconvert_exporter": "python",
   "pygments_lexer": "ipython3",
   "version": "3.13.5"
  }
 },
 "nbformat": 4,
 "nbformat_minor": 5
}
